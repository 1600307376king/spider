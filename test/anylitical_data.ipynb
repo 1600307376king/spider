{
 "cells": [
  {
   "cell_type": "code",
   "execution_count": 13,
   "metadata": {
    "pycharm": {
     "is_executing": false,
     "name": "#%%\n"
    }
   },
   "outputs": [],
   "source": [
    "import pymysql\n",
    "import pandas as pd\n",
    "import numpy as np\n",
    "\n",
    "def get_data():\n",
    "    db = pymysql.connect(\"localhost\", \"root\", \"\", \"good\")\n",
    "    cursor = db.cursor()\n",
    "    sql = '''\n",
    "    select * from ims_ewei_shop_goods\n",
    "    '''\n",
    "    \n",
    "    sql_c = '''\n",
    "    select COLUMN_NAME from information_schema.COLUMNS where table_name = 'ims_ewei_shop_goods' and TABLE_SCHEMA = 'good'\n",
    "    '''\n",
    "    \n",
    "    cursor.execute(sql)\n",
    "    data = cursor.fetchall()\n",
    "    \n",
    "    cursor.execute(sql_c)\n",
    "    col_data = cursor.fetchall()\n",
    "    \n",
    "    columns_list = [j[0] for j in col_data]\n",
    "    data_list = [i for i in data]\n",
    "    \n",
    "    cursor.close()\n",
    "    return data_list, columns_list\n"
   ]
  },
  {
   "cell_type": "code",
   "execution_count": 15,
   "metadata": {},
   "outputs": [
    {
     "data": {
      "text/html": [
       "<div>\n",
       "<style scoped>\n",
       "    .dataframe tbody tr th:only-of-type {\n",
       "        vertical-align: middle;\n",
       "    }\n",
       "\n",
       "    .dataframe tbody tr th {\n",
       "        vertical-align: top;\n",
       "    }\n",
       "\n",
       "    .dataframe thead th {\n",
       "        text-align: right;\n",
       "    }\n",
       "</style>\n",
       "<table border=\"1\" class=\"dataframe\">\n",
       "  <thead>\n",
       "    <tr style=\"text-align: right;\">\n",
       "      <th></th>\n",
       "      <th>id</th>\n",
       "      <th>uniacid</th>\n",
       "      <th>pcate</th>\n",
       "      <th>ccate</th>\n",
       "      <th>type</th>\n",
       "      <th>status</th>\n",
       "      <th>displayorder</th>\n",
       "      <th>title</th>\n",
       "      <th>thumb</th>\n",
       "      <th>unit</th>\n",
       "      <th>...</th>\n",
       "      <th>verifygoodslimitdate</th>\n",
       "      <th>minliveprice</th>\n",
       "      <th>maxliveprice</th>\n",
       "      <th>dowpayment</th>\n",
       "      <th>tempid</th>\n",
       "      <th>isstoreprice</th>\n",
       "      <th>beforehours</th>\n",
       "      <th>verifygoodstype</th>\n",
       "      <th>isforceverifystore</th>\n",
       "      <th>manydeduct2</th>\n",
       "    </tr>\n",
       "  </thead>\n",
       "  <tbody>\n",
       "    <tr>\n",
       "      <th>0</th>\n",
       "      <td>200</td>\n",
       "      <td>5</td>\n",
       "      <td>1174</td>\n",
       "      <td>0</td>\n",
       "      <td>1</td>\n",
       "      <td>1</td>\n",
       "      <td>0</td>\n",
       "      <td>基因宝</td>\n",
       "      <td>images/5/2019/07/LL6WTByZKPtlpkU3wptRB560Z4l37...</td>\n",
       "      <td></td>\n",
       "      <td>...</td>\n",
       "      <td>0</td>\n",
       "      <td>0.00</td>\n",
       "      <td>0.00</td>\n",
       "      <td>0.00</td>\n",
       "      <td>0</td>\n",
       "      <td>0</td>\n",
       "      <td>0</td>\n",
       "      <td>0</td>\n",
       "      <td>0</td>\n",
       "      <td>0</td>\n",
       "    </tr>\n",
       "    <tr>\n",
       "      <th>1</th>\n",
       "      <td>201</td>\n",
       "      <td>5</td>\n",
       "      <td>1174</td>\n",
       "      <td>0</td>\n",
       "      <td>1</td>\n",
       "      <td>1</td>\n",
       "      <td>0</td>\n",
       "      <td>祈福宝</td>\n",
       "      <td>images/5/2019/07/ZorFjgheeAA3f8GohB21GaRrBE2gA...</td>\n",
       "      <td></td>\n",
       "      <td>...</td>\n",
       "      <td>0</td>\n",
       "      <td>0.00</td>\n",
       "      <td>0.00</td>\n",
       "      <td>0.00</td>\n",
       "      <td>0</td>\n",
       "      <td>0</td>\n",
       "      <td>0</td>\n",
       "      <td>0</td>\n",
       "      <td>0</td>\n",
       "      <td>0</td>\n",
       "    </tr>\n",
       "    <tr>\n",
       "      <th>2</th>\n",
       "      <td>202</td>\n",
       "      <td>5</td>\n",
       "      <td>1174</td>\n",
       "      <td>0</td>\n",
       "      <td>1</td>\n",
       "      <td>1</td>\n",
       "      <td>0</td>\n",
       "      <td>能量宝</td>\n",
       "      <td>images/5/2019/07/S66csBcGS56dpHIcDCd6RfsSCC6fP...</td>\n",
       "      <td></td>\n",
       "      <td>...</td>\n",
       "      <td>0</td>\n",
       "      <td>0.00</td>\n",
       "      <td>0.00</td>\n",
       "      <td>0.00</td>\n",
       "      <td>0</td>\n",
       "      <td>0</td>\n",
       "      <td>0</td>\n",
       "      <td>0</td>\n",
       "      <td>0</td>\n",
       "      <td>0</td>\n",
       "    </tr>\n",
       "    <tr>\n",
       "      <th>3</th>\n",
       "      <td>203</td>\n",
       "      <td>5</td>\n",
       "      <td>1174</td>\n",
       "      <td>0</td>\n",
       "      <td>1</td>\n",
       "      <td>1</td>\n",
       "      <td>0</td>\n",
       "      <td>风水宝</td>\n",
       "      <td>images/5/2019/07/fRz76pF819Owb9w9ZzR98uoB81Zr8...</td>\n",
       "      <td></td>\n",
       "      <td>...</td>\n",
       "      <td>0</td>\n",
       "      <td>0.00</td>\n",
       "      <td>0.00</td>\n",
       "      <td>0.00</td>\n",
       "      <td>0</td>\n",
       "      <td>0</td>\n",
       "      <td>0</td>\n",
       "      <td>0</td>\n",
       "      <td>0</td>\n",
       "      <td>0</td>\n",
       "    </tr>\n",
       "    <tr>\n",
       "      <th>4</th>\n",
       "      <td>204</td>\n",
       "      <td>5</td>\n",
       "      <td>1174</td>\n",
       "      <td>0</td>\n",
       "      <td>1</td>\n",
       "      <td>1</td>\n",
       "      <td>0</td>\n",
       "      <td>私人定制基因防伪</td>\n",
       "      <td>images/5/2019/07/XfvA58fF6FV5f6obF0fCT5i5iF63F...</td>\n",
       "      <td></td>\n",
       "      <td>...</td>\n",
       "      <td>0</td>\n",
       "      <td>0.00</td>\n",
       "      <td>0.00</td>\n",
       "      <td>0.00</td>\n",
       "      <td>0</td>\n",
       "      <td>0</td>\n",
       "      <td>0</td>\n",
       "      <td>0</td>\n",
       "      <td>0</td>\n",
       "      <td>0</td>\n",
       "    </tr>\n",
       "  </tbody>\n",
       "</table>\n",
       "<p>5 rows × 210 columns</p>\n",
       "</div>"
      ],
      "text/plain": [
       "    id  uniacid  pcate  ccate  type  status  displayorder     title  \\\n",
       "0  200        5   1174      0     1       1             0       基因宝   \n",
       "1  201        5   1174      0     1       1             0       祈福宝   \n",
       "2  202        5   1174      0     1       1             0       能量宝   \n",
       "3  203        5   1174      0     1       1             0       风水宝   \n",
       "4  204        5   1174      0     1       1             0  私人定制基因防伪   \n",
       "\n",
       "                                               thumb unit  ...  \\\n",
       "0  images/5/2019/07/LL6WTByZKPtlpkU3wptRB560Z4l37...       ...   \n",
       "1  images/5/2019/07/ZorFjgheeAA3f8GohB21GaRrBE2gA...       ...   \n",
       "2  images/5/2019/07/S66csBcGS56dpHIcDCd6RfsSCC6fP...       ...   \n",
       "3  images/5/2019/07/fRz76pF819Owb9w9ZzR98uoB81Zr8...       ...   \n",
       "4  images/5/2019/07/XfvA58fF6FV5f6obF0fCT5i5iF63F...       ...   \n",
       "\n",
       "  verifygoodslimitdate minliveprice maxliveprice dowpayment tempid  \\\n",
       "0                    0         0.00         0.00       0.00      0   \n",
       "1                    0         0.00         0.00       0.00      0   \n",
       "2                    0         0.00         0.00       0.00      0   \n",
       "3                    0         0.00         0.00       0.00      0   \n",
       "4                    0         0.00         0.00       0.00      0   \n",
       "\n",
       "  isstoreprice beforehours verifygoodstype  isforceverifystore  manydeduct2  \n",
       "0            0           0               0                   0            0  \n",
       "1            0           0               0                   0            0  \n",
       "2            0           0               0                   0            0  \n",
       "3            0           0               0                   0            0  \n",
       "4            0           0               0                   0            0  \n",
       "\n",
       "[5 rows x 210 columns]"
      ]
     },
     "execution_count": 15,
     "metadata": {},
     "output_type": "execute_result"
    }
   ],
   "source": [
    "df_data, df_col = get_data()\n",
    "df = pd.DataFrame(df_data, columns=df_col)\n",
    "df.head()\n"
   ]
  },
  {
   "cell_type": "code",
   "execution_count": 28,
   "metadata": {},
   "outputs": [
    {
     "data": {
      "text/html": [
       "<div>\n",
       "<style scoped>\n",
       "    .dataframe tbody tr th:only-of-type {\n",
       "        vertical-align: middle;\n",
       "    }\n",
       "\n",
       "    .dataframe tbody tr th {\n",
       "        vertical-align: top;\n",
       "    }\n",
       "\n",
       "    .dataframe thead th {\n",
       "        text-align: right;\n",
       "    }\n",
       "</style>\n",
       "<table border=\"1\" class=\"dataframe\">\n",
       "  <thead>\n",
       "    <tr style=\"text-align: right;\">\n",
       "      <th></th>\n",
       "      <th>share_icon</th>\n",
       "      <th>cash</th>\n",
       "    </tr>\n",
       "  </thead>\n",
       "  <tbody>\n",
       "    <tr>\n",
       "      <th>0</th>\n",
       "      <td></td>\n",
       "      <td>0</td>\n",
       "    </tr>\n",
       "    <tr>\n",
       "      <th>1</th>\n",
       "      <td></td>\n",
       "      <td>0</td>\n",
       "    </tr>\n",
       "    <tr>\n",
       "      <th>2</th>\n",
       "      <td></td>\n",
       "      <td>0</td>\n",
       "    </tr>\n",
       "    <tr>\n",
       "      <th>3</th>\n",
       "      <td></td>\n",
       "      <td>0</td>\n",
       "    </tr>\n",
       "    <tr>\n",
       "      <th>4</th>\n",
       "      <td></td>\n",
       "      <td>0</td>\n",
       "    </tr>\n",
       "  </tbody>\n",
       "</table>\n",
       "</div>"
      ],
      "text/plain": [
       "  share_icon  cash\n",
       "0                0\n",
       "1                0\n",
       "2                0\n",
       "3                0\n",
       "4                0"
      ]
     },
     "execution_count": 28,
     "metadata": {},
     "output_type": "execute_result"
    }
   ],
   "source": [
    "df.iloc[:5, 55:57]"
   ]
  },
  {
   "cell_type": "code",
   "execution_count": 35,
   "metadata": {},
   "outputs": [
    {
     "data": {
      "text/plain": [
       "94    \n",
       "Name: share_icon, dtype: object"
      ]
     },
     "execution_count": 35,
     "metadata": {},
     "output_type": "execute_result"
    }
   ],
   "source": [
    "'''\n",
    "share_icon\tcash\n",
    "'''\n",
    "df[df.title == '哈密瓜约2.0kg/份'].loc[:, 'share_icon']"
   ]
  },
  {
   "cell_type": "code",
   "execution_count": 82,
   "metadata": {},
   "outputs": [],
   "source": [
    "from sql.sql_model import SqlModel\n",
    "\n",
    "sm = SqlModel(db_name='good', user_name='root', password='')\n",
    "sql1 = '''\n",
    "select * from ims_ewei_shop_goods where id = 1525\n",
    "'''\n",
    "sql2 = '''\n",
    "select * from ims_ewei_shop_goods2 \n",
    "'''\n",
    "col_sql = '''\n",
    "select COLUMN_NAME from information_schema.COLUMNS where table_name = 'ims_ewei_shop_goods' and TABLE_SCHEMA = 'good'\n",
    "'''"
   ]
  },
  {
   "cell_type": "code",
   "execution_count": 83,
   "metadata": {},
   "outputs": [
    {
     "data": {
      "text/html": [
       "<div>\n",
       "<style scoped>\n",
       "    .dataframe tbody tr th:only-of-type {\n",
       "        vertical-align: middle;\n",
       "    }\n",
       "\n",
       "    .dataframe tbody tr th {\n",
       "        vertical-align: top;\n",
       "    }\n",
       "\n",
       "    .dataframe thead th {\n",
       "        text-align: right;\n",
       "    }\n",
       "</style>\n",
       "<table border=\"1\" class=\"dataframe\">\n",
       "  <thead>\n",
       "    <tr style=\"text-align: right;\">\n",
       "      <th></th>\n",
       "      <th>before</th>\n",
       "      <th>after</th>\n",
       "    </tr>\n",
       "  </thead>\n",
       "  <tbody>\n",
       "    <tr>\n",
       "      <th>id</th>\n",
       "      <td>1525</td>\n",
       "      <td>1525</td>\n",
       "    </tr>\n",
       "    <tr>\n",
       "      <th>uniacid</th>\n",
       "      <td>7</td>\n",
       "      <td>7</td>\n",
       "    </tr>\n",
       "    <tr>\n",
       "      <th>pcate</th>\n",
       "      <td>1197</td>\n",
       "      <td>1197</td>\n",
       "    </tr>\n",
       "    <tr>\n",
       "      <th>ccate</th>\n",
       "      <td>0</td>\n",
       "      <td>0</td>\n",
       "    </tr>\n",
       "    <tr>\n",
       "      <th>type</th>\n",
       "      <td>1</td>\n",
       "      <td>1</td>\n",
       "    </tr>\n",
       "  </tbody>\n",
       "</table>\n",
       "</div>"
      ],
      "text/plain": [
       "        before after\n",
       "id        1525  1525\n",
       "uniacid      7     7\n",
       "pcate     1197  1197\n",
       "ccate        0     0\n",
       "type         1     1"
      ]
     },
     "execution_count": 83,
     "metadata": {},
     "output_type": "execute_result"
    }
   ],
   "source": [
    "data1 = sm.select_data(sql1)\n",
    "data2 = sm.select_data(sql2)\n",
    "col_data = sm.select_data(col_sql)\n",
    "col_lst = [k[0] for k in col_data]\n",
    "\n",
    "before_data = np.mat([i for i in data1]).T\n",
    "after_data = np.mat([j for j in data2]).T\n",
    "com_data = np.c_[before_data, after_data]\n",
    "df_com_data = pd.DataFrame(com_data, index=col_lst,  columns=['before', 'after'])\n",
    "df_com_data.head()"
   ]
  },
  {
   "cell_type": "code",
   "execution_count": 84,
   "metadata": {},
   "outputs": [
    {
     "data": {
      "text/html": [
       "<div>\n",
       "<style scoped>\n",
       "    .dataframe tbody tr th:only-of-type {\n",
       "        vertical-align: middle;\n",
       "    }\n",
       "\n",
       "    .dataframe tbody tr th {\n",
       "        vertical-align: top;\n",
       "    }\n",
       "\n",
       "    .dataframe thead th {\n",
       "        text-align: right;\n",
       "    }\n",
       "</style>\n",
       "<table border=\"1\" class=\"dataframe\">\n",
       "  <thead>\n",
       "    <tr style=\"text-align: right;\">\n",
       "      <th></th>\n",
       "      <th>before</th>\n",
       "      <th>after</th>\n",
       "      <th>is_equal</th>\n",
       "    </tr>\n",
       "  </thead>\n",
       "  <tbody>\n",
       "    <tr>\n",
       "      <th>pcates</th>\n",
       "      <td></td>\n",
       "      <td>1197</td>\n",
       "      <td>False</td>\n",
       "    </tr>\n",
       "    <tr>\n",
       "      <th>cates</th>\n",
       "      <td></td>\n",
       "      <td>1197</td>\n",
       "      <td>False</td>\n",
       "    </tr>\n",
       "    <tr>\n",
       "      <th>allcates</th>\n",
       "      <td>None</td>\n",
       "      <td>None</td>\n",
       "      <td>False</td>\n",
       "    </tr>\n",
       "    <tr>\n",
       "      <th>diyfields</th>\n",
       "      <td>None</td>\n",
       "      <td>None</td>\n",
       "      <td>False</td>\n",
       "    </tr>\n",
       "    <tr>\n",
       "      <th>officthumb</th>\n",
       "      <td>None</td>\n",
       "      <td>None</td>\n",
       "      <td>False</td>\n",
       "    </tr>\n",
       "    <tr>\n",
       "      <th>catesinit3</th>\n",
       "      <td>None</td>\n",
       "      <td>None</td>\n",
       "      <td>False</td>\n",
       "    </tr>\n",
       "    <tr>\n",
       "      <th>buyagain_commission</th>\n",
       "      <td>None</td>\n",
       "      <td>None</td>\n",
       "      <td>False</td>\n",
       "    </tr>\n",
       "  </tbody>\n",
       "</table>\n",
       "</div>"
      ],
      "text/plain": [
       "                    before after  is_equal\n",
       "pcates                      1197     False\n",
       "cates                       1197     False\n",
       "allcates              None  None     False\n",
       "diyfields             None  None     False\n",
       "officthumb            None  None     False\n",
       "catesinit3            None  None     False\n",
       "buyagain_commission   None  None     False"
      ]
     },
     "execution_count": 84,
     "metadata": {},
     "output_type": "execute_result"
    }
   ],
   "source": [
    "df_com_data['is_equal'] = df_com_data['before'] == df_com_data['after']\n",
    "df_com_data[df_com_data['is_equal'] == False]"
   ]
  },
  {
   "cell_type": "code",
   "execution_count": 86,
   "metadata": {},
   "outputs": [
    {
     "data": {
      "text/plain": [
       "id                      False\n",
       "uniacid                 False\n",
       "pcate                    True\n",
       "ccate                   False\n",
       "type                    False\n",
       "status                  False\n",
       "displayorder            False\n",
       "title                   False\n",
       "thumb                   False\n",
       "unit                    False\n",
       "description             False\n",
       "content                 False\n",
       "goodssn                 False\n",
       "productsn               False\n",
       "productprice            False\n",
       "marketprice             False\n",
       "costprice               False\n",
       "originalprice           False\n",
       "total                   False\n",
       "totalcnf                False\n",
       "sales                   False\n",
       "salesreal               False\n",
       "spec                    False\n",
       "createtime              False\n",
       "weight                  False\n",
       "credit                  False\n",
       "maxbuy                  False\n",
       "usermaxbuy              False\n",
       "hasoption               False\n",
       "dispatch                False\n",
       "                        ...  \n",
       "presellsendtime         False\n",
       "edareas_code            False\n",
       "unite_total             False\n",
       "buyagain_price          False\n",
       "threen                  False\n",
       "intervalfloor           False\n",
       "intervalprice           False\n",
       "isfullback              False\n",
       "isstatustime            False\n",
       "statustimestart         False\n",
       "statustimeend           False\n",
       "nosearch                False\n",
       "showsales               False\n",
       "islive                  False\n",
       "liveprice               False\n",
       "opencard                False\n",
       "cardid                  False\n",
       "verifygoodsnum          False\n",
       "verifygoodsdays         False\n",
       "verifygoodslimittype    False\n",
       "verifygoodslimitdate    False\n",
       "minliveprice            False\n",
       "maxliveprice            False\n",
       "dowpayment              False\n",
       "tempid                  False\n",
       "isstoreprice            False\n",
       "beforehours             False\n",
       "verifygoodstype         False\n",
       "isforceverifystore      False\n",
       "manydeduct2             False\n",
       "Name: before, Length: 210, dtype: bool"
      ]
     },
     "execution_count": 86,
     "metadata": {},
     "output_type": "execute_result"
    }
   ],
   "source": [
    "df_com_data['before'].isin([1197])"
   ]
  },
  {
   "cell_type": "code",
   "execution_count": null,
   "metadata": {},
   "outputs": [],
   "source": []
  },
  {
   "cell_type": "code",
   "execution_count": null,
   "metadata": {},
   "outputs": [],
   "source": []
  },
  {
   "cell_type": "code",
   "execution_count": 80,
   "metadata": {},
   "outputs": [
    {
     "data": {
      "text/html": [
       "<div>\n",
       "<style scoped>\n",
       "    .dataframe tbody tr th:only-of-type {\n",
       "        vertical-align: middle;\n",
       "    }\n",
       "\n",
       "    .dataframe tbody tr th {\n",
       "        vertical-align: top;\n",
       "    }\n",
       "\n",
       "    .dataframe thead th {\n",
       "        text-align: right;\n",
       "    }\n",
       "</style>\n",
       "<table border=\"1\" class=\"dataframe\">\n",
       "  <thead>\n",
       "    <tr style=\"text-align: right;\">\n",
       "      <th></th>\n",
       "      <th>before</th>\n",
       "      <th>after</th>\n",
       "      <th>is_equal</th>\n",
       "    </tr>\n",
       "  </thead>\n",
       "  <tbody>\n",
       "    <tr>\n",
       "      <th>pcate</th>\n",
       "      <td>1197</td>\n",
       "      <td>1197</td>\n",
       "      <td>True</td>\n",
       "    </tr>\n",
       "  </tbody>\n",
       "</table>\n",
       "</div>"
      ],
      "text/plain": [
       "      before after  is_equal\n",
       "pcate   1197  1197      True"
      ]
     },
     "execution_count": 80,
     "metadata": {},
     "output_type": "execute_result"
    }
   ],
   "source": [
    "df_com_data[df_com_data['before'].isin([1197])]\n",
    "# df_com_data"
   ]
  },
  {
   "cell_type": "code",
   "execution_count": 81,
   "metadata": {},
   "outputs": [
    {
     "data": {
      "text/html": [
       "<div>\n",
       "<style scoped>\n",
       "    .dataframe tbody tr th:only-of-type {\n",
       "        vertical-align: middle;\n",
       "    }\n",
       "\n",
       "    .dataframe tbody tr th {\n",
       "        vertical-align: top;\n",
       "    }\n",
       "\n",
       "    .dataframe thead th {\n",
       "        text-align: right;\n",
       "    }\n",
       "</style>\n",
       "<table border=\"1\" class=\"dataframe\">\n",
       "  <thead>\n",
       "    <tr style=\"text-align: right;\">\n",
       "      <th></th>\n",
       "      <th>before</th>\n",
       "      <th>after</th>\n",
       "      <th>is_equal</th>\n",
       "    </tr>\n",
       "  </thead>\n",
       "  <tbody>\n",
       "    <tr>\n",
       "      <th>pcate</th>\n",
       "      <td>1197</td>\n",
       "      <td>1197</td>\n",
       "      <td>True</td>\n",
       "    </tr>\n",
       "  </tbody>\n",
       "</table>\n",
       "</div>"
      ],
      "text/plain": [
       "      before after  is_equal\n",
       "pcate   1197  1197      True"
      ]
     },
     "execution_count": 81,
     "metadata": {},
     "output_type": "execute_result"
    }
   ],
   "source": [
    "df_com_data[df_com_data['after'].isin([1197])]"
   ]
  },
  {
   "cell_type": "code",
   "execution_count": 87,
   "metadata": {},
   "outputs": [
    {
     "data": {
      "text/plain": [
       "id                                                        1525\n",
       "uniacid                                                      7\n",
       "pcate                                                     1197\n",
       "ccate                                                        0\n",
       "type                                                         1\n",
       "status                                                       1\n",
       "displayorder                                                 0\n",
       "title                                               蜜瓜约1.0kg/份\n",
       "thumb                   images/7/2019/09/5684efaeN12fa8ae1.jpg\n",
       "unit                                                          \n",
       "description                                                   \n",
       "content                                                       \n",
       "goodssn                                                       \n",
       "productsn                                                     \n",
       "productprice                                              0.00\n",
       "marketprice                                              35.00\n",
       "costprice                                                 0.00\n",
       "originalprice                                             0.00\n",
       "total                                                     1000\n",
       "totalcnf                                                     0\n",
       "sales                                                        0\n",
       "salesreal                                                    0\n",
       "spec                                                          \n",
       "createtime                                          1576254445\n",
       "weight                                                    0.00\n",
       "credit                                                        \n",
       "maxbuy                                                       0\n",
       "usermaxbuy                                                   0\n",
       "hasoption                                                    0\n",
       "dispatch                                                     0\n",
       "                                         ...                  \n",
       "presellsendtime                                              0\n",
       "edareas_code                                                  \n",
       "unite_total                                                  0\n",
       "buyagain_price                                            0.00\n",
       "threen                                                        \n",
       "intervalfloor                                                0\n",
       "intervalprice                                                 \n",
       "isfullback                                                   0\n",
       "isstatustime                                                 0\n",
       "statustimestart                                     1576254360\n",
       "statustimeend                                       1578932760\n",
       "nosearch                                                     0\n",
       "showsales                                                    1\n",
       "islive                                                       0\n",
       "liveprice                                                 0.00\n",
       "opencard                                                     0\n",
       "cardid                                                        \n",
       "verifygoodsnum                                               1\n",
       "verifygoodsdays                                              1\n",
       "verifygoodslimittype                                         0\n",
       "verifygoodslimitdate                                         0\n",
       "minliveprice                                              0.00\n",
       "maxliveprice                                              0.00\n",
       "dowpayment                                                0.00\n",
       "tempid                                                       0\n",
       "isstoreprice                                                 0\n",
       "beforehours                                                  0\n",
       "verifygoodstype                                              0\n",
       "isforceverifystore                                           0\n",
       "manydeduct2                                                  0\n",
       "Name: before, Length: 210, dtype: object"
      ]
     },
     "execution_count": 87,
     "metadata": {},
     "output_type": "execute_result"
    }
   ],
   "source": [
    "df_com_data.before"
   ]
  },
  {
   "cell_type": "code",
   "execution_count": 107,
   "metadata": {},
   "outputs": [
    {
     "data": {
      "text/plain": [
       "pandas.core.series.Series"
      ]
     },
     "execution_count": 107,
     "metadata": {},
     "output_type": "execute_result"
    }
   ],
   "source": [
    "df_com_data.before.head()\n",
    "type(df_com_data.before)"
   ]
  },
  {
   "cell_type": "code",
   "execution_count": 108,
   "metadata": {},
   "outputs": [
    {
     "data": {
      "text/html": [
       "<div>\n",
       "<style scoped>\n",
       "    .dataframe tbody tr th:only-of-type {\n",
       "        vertical-align: middle;\n",
       "    }\n",
       "\n",
       "    .dataframe tbody tr th {\n",
       "        vertical-align: top;\n",
       "    }\n",
       "\n",
       "    .dataframe thead th {\n",
       "        text-align: right;\n",
       "    }\n",
       "</style>\n",
       "<table border=\"1\" class=\"dataframe\">\n",
       "  <thead>\n",
       "    <tr style=\"text-align: right;\">\n",
       "      <th></th>\n",
       "      <th>0</th>\n",
       "      <th>1</th>\n",
       "    </tr>\n",
       "  </thead>\n",
       "  <tbody>\n",
       "    <tr>\n",
       "      <th>0</th>\n",
       "      <td>1</td>\n",
       "      <td>2</td>\n",
       "    </tr>\n",
       "    <tr>\n",
       "      <th>1</th>\n",
       "      <td>3</td>\n",
       "      <td>4</td>\n",
       "    </tr>\n",
       "  </tbody>\n",
       "</table>\n",
       "</div>"
      ],
      "text/plain": [
       "   0  1\n",
       "0  1  2\n",
       "1  3  4"
      ]
     },
     "execution_count": 108,
     "metadata": {},
     "output_type": "execute_result"
    }
   ],
   "source": [
    "ms = pd.DataFrame([[1, 2], [3, 4]])\n",
    "ms\n"
   ]
  },
  {
   "cell_type": "code",
   "execution_count": 121,
   "metadata": {},
   "outputs": [],
   "source": [
    "del ms[1]"
   ]
  },
  {
   "cell_type": "code",
   "execution_count": 123,
   "metadata": {},
   "outputs": [],
   "source": [
    "ms[2] = 1\n"
   ]
  },
  {
   "cell_type": "code",
   "execution_count": 125,
   "metadata": {},
   "outputs": [
    {
     "data": {
      "text/plain": [
       "0    1\n",
       "1    1\n",
       "Name: 2, dtype: int64"
      ]
     },
     "execution_count": 125,
     "metadata": {},
     "output_type": "execute_result"
    }
   ],
   "source": [
    "ms.pop(2)"
   ]
  },
  {
   "cell_type": "code",
   "execution_count": 127,
   "metadata": {},
   "outputs": [],
   "source": [
    "ms[2:3] = 1"
   ]
  },
  {
   "cell_type": "code",
   "execution_count": 138,
   "metadata": {},
   "outputs": [
    {
     "data": {
      "text/html": [
       "<div>\n",
       "<style scoped>\n",
       "    .dataframe tbody tr th:only-of-type {\n",
       "        vertical-align: middle;\n",
       "    }\n",
       "\n",
       "    .dataframe tbody tr th {\n",
       "        vertical-align: top;\n",
       "    }\n",
       "\n",
       "    .dataframe thead th {\n",
       "        text-align: right;\n",
       "    }\n",
       "</style>\n",
       "<table border=\"1\" class=\"dataframe\">\n",
       "  <thead>\n",
       "    <tr style=\"text-align: right;\">\n",
       "      <th></th>\n",
       "      <th>0</th>\n",
       "      <th>2</th>\n",
       "    </tr>\n",
       "  </thead>\n",
       "  <tbody>\n",
       "    <tr>\n",
       "      <th>0</th>\n",
       "      <td>1</td>\n",
       "      <td>2</td>\n",
       "    </tr>\n",
       "    <tr>\n",
       "      <th>1</th>\n",
       "      <td>3</td>\n",
       "      <td>2</td>\n",
       "    </tr>\n",
       "  </tbody>\n",
       "</table>\n",
       "</div>"
      ],
      "text/plain": [
       "   0  2\n",
       "0  1  2\n",
       "1  3  2"
      ]
     },
     "execution_count": 138,
     "metadata": {},
     "output_type": "execute_result"
    }
   ],
   "source": [
    "ms"
   ]
  }
 ],
 "metadata": {
  "kernelspec": {
   "display_name": "Python 3",
   "language": "python",
   "name": "python3"
  },
  "language_info": {
   "codemirror_mode": {
    "name": "ipython",
    "version": 3
   },
   "file_extension": ".py",
   "mimetype": "text/x-python",
   "name": "python",
   "nbconvert_exporter": "python",
   "pygments_lexer": "ipython3",
   "version": "3.7.3"
  },
  "pycharm": {
   "stem_cell": {
    "cell_type": "raw",
    "metadata": {
     "collapsed": false
    },
    "source": []
   }
  }
 },
 "nbformat": 4,
 "nbformat_minor": 1
}
