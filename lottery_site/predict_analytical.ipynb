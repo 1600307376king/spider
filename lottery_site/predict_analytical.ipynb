{
 "cells": [
  {
   "cell_type": "code",
   "execution_count": 2,
   "metadata": {
    "pycharm": {
     "is_executing": false
    }
   },
   "outputs": [
    {
     "data": {
      "text/html": "        <script type=\"text/javascript\">\n        window.PlotlyConfig = {MathJaxConfig: 'local'};\n        if (window.MathJax) {MathJax.Hub.Config({SVG: {font: \"STIX-Web\"}});}\n        if (typeof require !== 'undefined') {\n        require.undef(\"plotly\");\n        requirejs.config({\n            paths: {\n                'plotly': ['https://cdn.plot.ly/plotly-latest.min']\n            }\n        });\n        require(['plotly'], function(Plotly) {\n            window._Plotly = Plotly;\n        });\n        }\n        </script>\n        "
     },
     "metadata": {},
     "output_type": "display_data"
    },
    {
     "data": {
      "text/html": "        <script type=\"text/javascript\">\n        window.PlotlyConfig = {MathJaxConfig: 'local'};\n        if (window.MathJax) {MathJax.Hub.Config({SVG: {font: \"STIX-Web\"}});}\n        if (typeof require !== 'undefined') {\n        require.undef(\"plotly\");\n        requirejs.config({\n            paths: {\n                'plotly': ['https://cdn.plot.ly/plotly-latest.min']\n            }\n        });\n        require(['plotly'], function(Plotly) {\n            window._Plotly = Plotly;\n        });\n        }\n        </script>\n        "
     },
     "metadata": {},
     "output_type": "display_data"
    }
   ],
   "source": [
    "import pandas as pd \n",
    "import numpy as np \n",
    "import cufflinks as cf\n",
    "\n",
    "\n",
    "cf.set_config_file(offline=True)\n",
    "df = pd.read_excel(\"./lottery_data.xlsx\")"
   ]
  },
  {
   "cell_type": "code",
   "execution_count": 3,
   "metadata": {
    "pycharm": {
     "is_executing": false
    }
   },
   "outputs": [
    {
     "data": {
      "text/plain": "      期号  1   2   3   4   5   6  蓝球         奖池奖金  一等奖注数   一等奖奖金(元)  二等奖注数  \\\n0  19113  1   5  19  21  25  33  15  966,030,310      5  8,717,723    118   \n1  19112  3  12  14  17  23  27   1  939,911,612      6  8,762,335    173   \n2  19111  7  18  20  22  24  33   1  907,833,069      6  9,138,179     82   \n3  19110  1  18  22  26  27  28   8  869,553,104      8  7,132,577     89   \n4  19109  3   6   7  17  28  31  10  862,636,404      5  8,306,978    218   \n\n     二等奖奖金      总投注额(元)        开奖日期  \n0  196,913  339,648,916  2019-09-26  \n1  163,107  335,430,712  2019-09-24  \n2  378,492  371,095,278  2019-09-22  \n3  239,615  345,297,696  2019-09-19  \n4   94,810  339,057,352  2019-09-17  ",
      "text/html": "<div>\n<style scoped>\n    .dataframe tbody tr th:only-of-type {\n        vertical-align: middle;\n    }\n\n    .dataframe tbody tr th {\n        vertical-align: top;\n    }\n\n    .dataframe thead th {\n        text-align: right;\n    }\n</style>\n<table border=\"1\" class=\"dataframe\">\n  <thead>\n    <tr style=\"text-align: right;\">\n      <th></th>\n      <th>期号</th>\n      <th>1</th>\n      <th>2</th>\n      <th>3</th>\n      <th>4</th>\n      <th>5</th>\n      <th>6</th>\n      <th>蓝球</th>\n      <th>奖池奖金</th>\n      <th>一等奖注数</th>\n      <th>一等奖奖金(元)</th>\n      <th>二等奖注数</th>\n      <th>二等奖奖金</th>\n      <th>总投注额(元)</th>\n      <th>开奖日期</th>\n    </tr>\n  </thead>\n  <tbody>\n    <tr>\n      <td>0</td>\n      <td>19113</td>\n      <td>1</td>\n      <td>5</td>\n      <td>19</td>\n      <td>21</td>\n      <td>25</td>\n      <td>33</td>\n      <td>15</td>\n      <td>966,030,310</td>\n      <td>5</td>\n      <td>8,717,723</td>\n      <td>118</td>\n      <td>196,913</td>\n      <td>339,648,916</td>\n      <td>2019-09-26</td>\n    </tr>\n    <tr>\n      <td>1</td>\n      <td>19112</td>\n      <td>3</td>\n      <td>12</td>\n      <td>14</td>\n      <td>17</td>\n      <td>23</td>\n      <td>27</td>\n      <td>1</td>\n      <td>939,911,612</td>\n      <td>6</td>\n      <td>8,762,335</td>\n      <td>173</td>\n      <td>163,107</td>\n      <td>335,430,712</td>\n      <td>2019-09-24</td>\n    </tr>\n    <tr>\n      <td>2</td>\n      <td>19111</td>\n      <td>7</td>\n      <td>18</td>\n      <td>20</td>\n      <td>22</td>\n      <td>24</td>\n      <td>33</td>\n      <td>1</td>\n      <td>907,833,069</td>\n      <td>6</td>\n      <td>9,138,179</td>\n      <td>82</td>\n      <td>378,492</td>\n      <td>371,095,278</td>\n      <td>2019-09-22</td>\n    </tr>\n    <tr>\n      <td>3</td>\n      <td>19110</td>\n      <td>1</td>\n      <td>18</td>\n      <td>22</td>\n      <td>26</td>\n      <td>27</td>\n      <td>28</td>\n      <td>8</td>\n      <td>869,553,104</td>\n      <td>8</td>\n      <td>7,132,577</td>\n      <td>89</td>\n      <td>239,615</td>\n      <td>345,297,696</td>\n      <td>2019-09-19</td>\n    </tr>\n    <tr>\n      <td>4</td>\n      <td>19109</td>\n      <td>3</td>\n      <td>6</td>\n      <td>7</td>\n      <td>17</td>\n      <td>28</td>\n      <td>31</td>\n      <td>10</td>\n      <td>862,636,404</td>\n      <td>5</td>\n      <td>8,306,978</td>\n      <td>218</td>\n      <td>94,810</td>\n      <td>339,057,352</td>\n      <td>2019-09-17</td>\n    </tr>\n  </tbody>\n</table>\n</div>"
     },
     "metadata": {},
     "output_type": "execute_result",
     "execution_count": 3
    }
   ],
   "source": [
    "df.head()"
   ]
  },
  {
   "cell_type": "code",
   "execution_count": 4,
   "metadata": {
    "pycharm": {
     "is_executing": false
    }
   },
   "outputs": [],
   "source": [
    "\n",
    "x = [i[0] for i in df.loc[:, ['开奖日期']].values.tolist()][:50]\n",
    "y = []\n",
    "for i in range(1, 8):\n",
    "    if i < 7:\n",
    "        y.append('红' + str(i))\n",
    "    else:\n",
    "        y.append('蓝球')\n",
    "\n",
    "# df3 = pd.DataFrame(df.iloc[:50, 1:8].values.tolist(), index=x, columns=y)\n",
    "# df3.iplot(kind='scatter', xTitle='date', yTitle='number', title='Fluctuation-Chart')\n",
    "# cf.datagen.histogram(2)\n",
    "df.iloc[:, 1:8].iplot(kind='histogram', subplots=True,shape=(7,1), opacity=.75,title='Cufflinks - Histogram')"
   ]
  }
 ],
 "metadata": {
  "kernelspec": {
   "display_name": "Python 3",
   "language": "python",
   "name": "python3"
  },
  "language_info": {
   "codemirror_mode": {
    "name": "ipython",
    "version": 3
   },
   "file_extension": ".py",
   "mimetype": "text/x-python",
   "name": "python",
   "nbconvert_exporter": "python",
   "pygments_lexer": "ipython3",
   "version": "3.5.4"
  }
 },
 "nbformat": 4,
 "nbformat_minor": 2
}